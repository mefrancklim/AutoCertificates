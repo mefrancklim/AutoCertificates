{
 "cells": [
  {
   "cell_type": "code",
   "execution_count": 6,
   "id": "728bbcb0-6373-42e4-afc5-7d8c05fd24ef",
   "metadata": {},
   "outputs": [
    {
     "name": "stdout",
     "output_type": "stream",
     "text": [
      "✅ Todos os certificados foram gerados com sucesso!\n"
     ]
    }
   ],
   "source": [
    "import pandas as pd\n",
    "import os\n",
    "from PyPDF2 import PdfReader, PdfWriter\n",
    "from reportlab.pdfgen import canvas\n",
    "from reportlab.lib.pagesizes import A4\n",
    "from io import BytesIO\n",
    "\n",
    "def escolher_tamanho_fonte_por_tamanho(nome):\n",
    "    n = len(nome)\n",
    "    if n <= 35:\n",
    "        return 12.5\n",
    "    elif n <= 44:\n",
    "        return 11.5\n",
    "    elif n <= 54:\n",
    "        return 10.5\n",
    "    elif n <= 65:\n",
    "        return 9.5\n",
    "    else:\n",
    "        return 8.5  # ou menor, se necessário\n",
    "\n",
    "def escrever_nome(nome, template_path, output_path):\n",
    "    packet = BytesIO()\n",
    "    can = canvas.Canvas(packet, pagesize=A4)\n",
    "\n",
    "    x_centro = 430\n",
    "    y = 440\n",
    "\n",
    "    tamanho_fonte = escolher_tamanho_fonte_por_tamanho(nome)\n",
    "\n",
    "    can.setFont(\"Helvetica-Bold\", tamanho_fonte)\n",
    "    can.drawCentredString(x_centro, y, nome)\n",
    "\n",
    "    can.save()\n",
    "    packet.seek(0)\n",
    "\n",
    "    new_pdf = PdfReader(packet)\n",
    "    existing_pdf = PdfReader(template_path)\n",
    "    output = PdfWriter()\n",
    "\n",
    "    page = existing_pdf.pages[0]\n",
    "    page.merge_page(new_pdf.pages[0])\n",
    "    output.add_page(page)\n",
    "\n",
    "    with open(output_path, \"wb\") as f:\n",
    "        output.write(f)\n",
    "\n",
    "# Caminhos\n",
    "template_path = r\"D:\\Certificado28-07-2025_4.pdf\"\n",
    "planilha_path = r\"C:\\Users\\Maria-EduardaFranckl\\Desktop\\EmissaoDeCertificados4.xlsx\"\n",
    "saida_dir = r\"D:\\certificados4\"\n",
    "os.makedirs(saida_dir, exist_ok=True)\n",
    "\n",
    "# Lê a planilha\n",
    "df = pd.read_excel(planilha_path)\n",
    "\n",
    "# Gera os certificados\n",
    "for _, row in df.iterrows():\n",
    "    nome = str(row[\"NOME COMPLETO\"]).strip()\n",
    "    nome_arquivo = f\"{nome.replace(' ', '_')}.pdf\"\n",
    "    output_path = os.path.join(saida_dir, nome_arquivo)\n",
    "\n",
    "    escrever_nome(nome, template_path, output_path)\n",
    "\n",
    "print(\"✅ Todos os certificados foram gerados com sucesso!\")\n"
   ]
  },
  {
   "cell_type": "code",
   "execution_count": null,
   "id": "647140a3-be67-456f-a8da-364be55ce83a",
   "metadata": {},
   "outputs": [],
   "source": []
  }
 ],
 "metadata": {
  "kernelspec": {
   "display_name": "Python 3.12",
   "language": "python",
   "name": "python312"
  },
  "language_info": {
   "codemirror_mode": {
    "name": "ipython",
    "version": 3
   },
   "file_extension": ".py",
   "mimetype": "text/x-python",
   "name": "python",
   "nbconvert_exporter": "python",
   "pygments_lexer": "ipython3",
   "version": "3.12.6"
  }
 },
 "nbformat": 4,
 "nbformat_minor": 5
}
